{
  "metadata": {
    "kernelspec": {
      "name": "python",
      "display_name": "Python (Pyodide)",
      "language": "python"
    },
    "language_info": {
      "codemirror_mode": {
        "name": "python",
        "version": 3
      },
      "file_extension": ".py",
      "mimetype": "text/x-python",
      "name": "python",
      "nbconvert_exporter": "python",
      "pygments_lexer": "ipython3",
      "version": "3.8"
    }
  },
  "nbformat_minor": 5,
  "nbformat": 4,
  "cells": [
    {
      "id": "81af959e-8653-4a47-ad9b-2389bfc83db5",
      "cell_type": "code",
      "source": "import numpy as np\n\ndef bisection_method(f, xl, xu, es, max_iter=100):\n    \"\"\"Solve using the bisection method.\"\"\"\n    iter_count = 0\n    xr = xl\n    ea = 100  # Initialize approximate relative error\n    while ea > es and iter_count < max_iter:\n        xrold = xr\n        xr = (xl + xu) / 2  # Midpoint\n        if f(xl) * f(xr) < 0:\n            xu = xr\n        elif f(xl) * f(xr) > 0:\n            xl = xr\n        else:\n            ea = 0  # Root found\n        iter_count += 1\n        if iter_count > 1:\n            ea = abs((xr - xrold) / xr) * 100  # Relative error\n    return xr, f(xr), iter_count, ea\n\ndef false_position_method(f, xl, xu, es, max_iter=100):\n    \"\"\"Solve using the false position method.\"\"\"\n    iter_count = 0\n    xr = xl\n    ea = 100  # Initialize approximate relative error\n    while ea > es and iter_count < max_iter:\n        xrold = xr\n        # Calculate the false position root\n        xr = xu - (f(xu) * (xl - xu)) / (f(xl) - f(xu))\n        if f(xl) * f(xr) < 0:\n            xu = xr\n        elif f(xl) * f(xr) > 0:\n            xl = xr\n        else:\n            ea = 0  # Root found\n        iter_count += 1\n        if iter_count > 1:\n            ea = abs((xr - xrold) / xr) * 100  # Relative error\n    return xr, f(xr), iter_count, ea\n\n# Question 1\ndef f_q1(H, g=9.81, t=2.5, L=4.0, v_target=5.0):\n    \"\"\"Function for velocity equation in Q1.\"\"\"\n    return np.sqrt(2 * g * H) * np.tanh((np.sqrt(2 * g * H) * t) / (2 * L)) - v_target\n\n# Solve Q1\nxl_q1, xu_q1 = 0, 2\nes = 1  # Stopping criterion (% error)\n\nprint(\"Question 1\")\nbisection_q1 = bisection_method(lambda H: f_q1(H), xl_q1, xu_q1, es)\nfalse_position_q1 = false_position_method(lambda H: f_q1(H), xl_q1, xu_q1, es)\nprint(f\"Bisection Method: Root = {bisection_q1[0]:.6f}, Iterations = {bisection_q1[2]}, Error = {bisection_q1[3]:.2f}%\")\nprint(f\"False Position Method: Root = {false_position_q1[0]:.6f}, Iterations = {false_position_q1[2]}, Error = {false_position_q1[3]:.2f}%\")\n\n# Question 2\ndef f_q2(y, Q=20.0, g=9.81):\n    \"\"\"Function for critical depth equation in Q2.\"\"\"\n    T = 3 + y  # Width at surface\n    Ac = 3 * y + (y**2) / 2  # Cross-sectional area\n    return 1 - (Q**2 * T) / (g * Ac**3)\n\n# Solve Q2\nxl_q2, xu_q2 = 0.5, 2.5\n\nprint(\"\\nQuestion 2\")\nbisection_q2 = bisection_method(lambda y: f_q2(y), xl_q2, xu_q2, es, max_iter=10)\nfalse_position_q2 = false_position_method(lambda y: f_q2(y), xl_q2, xu_q2, es, max_iter=10)\nprint(f\"Bisection Method: Root = {bisection_q2[0]:.6f}, Iterations = {bisection_q2[2]}, Error = {bisection_q2[3]:.2f}%\")\nprint(f\"False Position Method: Root = {false_position_q2[0]:.6f}, Iterations = {false_position_q2[2]}, Error = {false_position_q2[3]:.2f}%\")\n",
      "metadata": {
        "trusted": true
      },
      "outputs": [
        {
          "name": "stdout",
          "output_type": "stream",
          "text": "Question 1\nBisection Method: Root = 1.460938, Iterations = 8, Error = 0.53%\nFalse Position Method: Root = 1.469968, Iterations = 5, Error = 0.45%\n\nQuestion 2\nBisection Method: Root = 1.507812, Iterations = 8, Error = 0.52%\nFalse Position Method: Root = 2.090766, Iterations = 10, Error = 1.59%\n"
        }
      ],
      "execution_count": 5
    },
    {
      "id": "8f2d7ed7-a2d0-4816-bc17-67f128dfaeca",
      "cell_type": "code",
      "source": "",
      "metadata": {
        "trusted": true
      },
      "outputs": [],
      "execution_count": null
    },
    {
      "id": "b7e128ee-a33f-4895-bdf3-7882f303ce82",
      "cell_type": "code",
      "source": "",
      "metadata": {
        "trusted": true
      },
      "outputs": [],
      "execution_count": null
    }
  ]
}