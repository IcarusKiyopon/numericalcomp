{
  "metadata": {
    "kernelspec": {
      "name": "python",
      "display_name": "Python (Pyodide)",
      "language": "python"
    },
    "language_info": {
      "codemirror_mode": {
        "name": "python",
        "version": 3
      },
      "file_extension": ".py",
      "mimetype": "text/x-python",
      "name": "python",
      "nbconvert_exporter": "python",
      "pygments_lexer": "ipython3",
      "version": "3.8"
    }
  },
  "nbformat_minor": 5,
  "nbformat": 4,
  "cells": [
    {
      "id": "f2fb3301-cc23-4b45-a7b1-a836ea0272b9",
      "cell_type": "code",
      "source": "import numpy as np\n\nsigma = np.array([[24, 12, 16],\n                  [12, 38, 22],\n                  [16, 22, 11]])\n\ndef power_method(A, num_iterations=20, tol=1e-6):\n    n, _ = A.shape\n    x = np.ones(n) / np.linalg.norm(np.ones(n))\n    lambda_old = 0\n    \n    for _ in range(num_iterations):\n        x_new = np.dot(A, x)\n        x_new = x_new / np.linalg.norm(x_new)\n        lambda_new = np.dot(x_new.T, np.dot(A, x_new))\n        \n        if abs(lambda_new - lambda_old) < tol:\n            break\n        \n        x = x_new\n        lambda_old = lambda_new\n\n    return lambda_new, x_new\n\ndef inverse_power_method(A, num_iterations=20, tol=1e-6):\n    n, _ = A.shape\n    x = np.ones(n) / np.linalg.norm(np.ones(n))\n    lambda_old = 0\n    \n    for _ in range(num_iterations):\n        try:\n            x_new = np.linalg.solve(A, x)\n        except np.linalg.LinAlgError:\n            return None, None\n\n        x_new = x_new / np.linalg.norm(x_new)\n        lambda_new = np.dot(x_new.T, np.dot(A, x_new))\n        \n        if abs(1/lambda_new - lambda_old) < tol:\n            break\n        \n        x = x_new\n        lambda_old = 1 / lambda_new\n\n    return lambda_old, x_new\n\ndef compute_intermediate_eigenvalue(A, lambda_1, lambda_3):\n    return np.trace(A) - (lambda_1 + lambda_3)\n\nlambda_1, v_power = power_method(sigma)\nlambda_3, v_inv = inverse_power_method(sigma)\nlambda_2 = compute_intermediate_eigenvalue(sigma, lambda_1, lambda_3)\n\neigenvalues, eigenvectors = np.linalg.eig(sigma)\nsorted_indices = np.argsort(eigenvalues)[::-1]\nprincipal_stresses = eigenvalues[sorted_indices]\nprincipal_axes = eigenvectors[:, sorted_indices]\n\nprint(\"\\nEigenvalues:\")\nprint(f\"λ₁ = {lambda_1:.4f}\")\nprint(f\"λ₂ = {lambda_2:.4f}\")\nprint(f\"λ₃ = {lambda_3:.4f}\")\n\n\n\nprint(\"\\nEigenvectors:\")\nfor i in range(3):\n    print(f\"v_{i+1}: {np.round(principal_axes[:, i], 4)}\")\n\nprint(\"\\nFinal Eigenvalues:\")\nprint(f\"Smallest Eigenvalue: {lambda_3:.4f}\")\nprint(f\"Largest Eigenvalue: {lambda_1:.4f}\")\nprint(f\"Intermediate Eigenvalue: {lambda_2:.4f}\")\n\nprint(\"\\nCorresponding Eigenvectors:\")\nprint(f\"v₃: {np.round(v_inv, 4)}\")\nprint(f\"v₁: {np.round(v_power, 4)}\")\n",
      "metadata": {
        "trusted": true
      },
      "outputs": [
        {
          "name": "stdout",
          "output_type": "stream",
          "text": "\nEigenvalues:\nλ₁ = 59.9095\nλ₂ = 13.3244\nλ₃ = -0.2339\n\nEigenvectors:\nv_1: [-0.4639 -0.7412 -0.4852]\nv_2: [-0.8175  0.5691 -0.0879]\nv_3: [-0.3413 -0.3559  0.87  ]\n\nFinal Eigenvalues:\nSmallest Eigenvalue: -0.2339\nLargest Eigenvalue: 59.9095\nIntermediate Eigenvalue: 13.3244\n\nCorresponding Eigenvectors:\nv₃: [ 0.3414  0.3558 -0.87  ]\nv₁: [0.4639 0.7412 0.4852]\n"
        }
      ],
      "execution_count": 6
    },
    {
      "id": "31521e14-19c5-408f-9535-e762e25b374f",
      "cell_type": "code",
      "source": "import numpy as np\n\nsigma = np.array([[24, 12, 16],\n                  [12, 38, 22],\n                  [16, 22, 11]])\n\ndef power_method(A, num_iterations=20, tol=1e-6):\n    n, _ = A.shape\n    x = np.ones(n) / np.linalg.norm(np.ones(n))\n    lambda_old = 0\n    history = []\n    \n    for i in range(num_iterations):\n        x_new = np.dot(A, x)\n        x_new = x_new / np.linalg.norm(x_new)\n        lambda_new = np.dot(x_new.T, np.dot(A, x_new))\n        history.append((i+1, lambda_new, x_new.copy()))\n        \n        if abs(lambda_new - lambda_old) < tol:\n            break\n        \n        x = x_new\n        lambda_old = lambda_new\n\n    return lambda_new, x_new, history\n\ndef inverse_power_method(A, num_iterations=20, tol=1e-6):\n    n, _ = A.shape\n    x = np.ones(n) / np.linalg.norm(np.ones(n))\n    lambda_old = 0\n    history = []\n    \n    for i in range(num_iterations):\n        try:\n            x_new = np.linalg.solve(A, x)\n        except np.linalg.LinAlgError:\n            return None, None, []\n\n        x_new = x_new / np.linalg.norm(x_new)\n        lambda_new = np.dot(x_new.T, np.dot(A, x_new))\n        history.append((i+1, 1/lambda_new, x_new.copy()))\n        \n        if abs(1/lambda_new - lambda_old) < tol:\n            break\n        \n        x = x_new\n        lambda_old = 1 / lambda_new\n\n    return lambda_old, x_new, history\n\ndef compute_intermediate_eigenvalue(A, lambda_1, lambda_3):\n    return np.trace(A) - (lambda_1 + lambda_3)\n\nlambda_1, v_power, power_history = power_method(sigma)\nlambda_3, v_inv, inv_history = inverse_power_method(sigma)\nlambda_2 = compute_intermediate_eigenvalue(sigma, lambda_1, lambda_3)\n\neigenvalues, eigenvectors = np.linalg.eig(sigma)\nsorted_indices = np.argsort(eigenvalues)[::-1]\nprincipal_stresses = eigenvalues[sorted_indices]\nprincipal_axes = eigenvectors[:, sorted_indices]\n\nprint(\"\\nEigenvalues:\")\nprint(f\"λ₁ = {lambda_1:.4f}\")\nprint(f\"λ₂ = {lambda_2:.4f}\")\nprint(f\"λ₃ = {lambda_3:.4f}\")\n\n\nprint(\"\\nEigenvectors:\")\nfor i in range(3):\n    print(f\"v_{i+1}: {np.round(principal_axes[:, i], 4)}\")\n\nprint(\"\\nPower Method Iteration Table:\")\nprint(\" Iter | Eigenvalue | x1 | x2 | x3 \")\nprint(\"---------------------------------------------------------------\")\nfor iteration, eigenvalue, vec in power_history:\n    print(f\" {iteration:4d} | {eigenvalue:10.4f} | {vec[0]:10.4f} | {vec[1]:10.4f} | {vec[2]:10.4f}\")\n\nprint(\"\\nInverse Power Method Iteration Table:\")\nprint(\" Iter | Eigenvalue | x1 | x2 | x3 \")\nprint(\"---------------------------------------------------------------\")\nfor iteration, eigenvalue, vec in inv_history:\n    print(f\" {iteration:4d} | {eigenvalue:10.4f} | {vec[0]:10.4f} | {vec[1]:10.4f} | {vec[2]:10.4f}\")\n\nprint(\"\\nFinal Eigenvalues:\")\nprint(f\"Smallest Eigenvalue: {lambda_3:.4f}\")\nprint(f\"Largest Eigenvalue: {lambda_1:.4f}\")\nprint(f\"Intermediate Eigenvalue: {lambda_2:.4f}\")\n\nprint(\"\\nCorresponding Eigenvectors:\")\nprint(f\"v₃: {np.round(v_inv, 4)}\")\nprint(f\"v₁: {np.round(v_power, 4)}\")\n",
      "metadata": {
        "trusted": true
      },
      "outputs": [
        {
          "name": "stdout",
          "output_type": "stream",
          "text": "\nEigenvalues:\nλ₁ = 59.9095\nλ₂ = 13.3244\nλ₃ = -0.2339\n\nEigenvectors:\nv_1: [-0.4639 -0.7412 -0.4852]\nv_2: [-0.8175  0.5691 -0.0879]\nv_3: [-0.3413 -0.3559  0.87  ]\n\nPower Method Iteration Table:\n Iter | Eigenvalue | x1 | x2 | x3 \n---------------------------------------------------------------\n    1 |    59.7651 |     0.5126 |     0.7098 |     0.4831\n    2 |    59.8976 |     0.4773 |     0.7314 |     0.4870\n    3 |    59.9085 |     0.4678 |     0.7385 |     0.4856\n    4 |    59.9094 |     0.4650 |     0.7404 |     0.4853\n    5 |    59.9095 |     0.4642 |     0.7410 |     0.4852\n    6 |    59.9095 |     0.4640 |     0.7412 |     0.4852\n    7 |    59.9095 |     0.4639 |     0.7412 |     0.4852\n\nInverse Power Method Iteration Table:\n Iter | Eigenvalue | x1 | x2 | x3 \n---------------------------------------------------------------\n    1 |     0.0594 |     0.8064 |     0.4584 |    -0.3735\n    2 |    -0.2616 |    -0.2200 |    -0.3829 |     0.8972\n    3 |    -0.2349 |     0.3665 |     0.3418 |    -0.8653\n    4 |    -0.2340 |    -0.3353 |    -0.3597 |     0.8707\n    5 |    -0.2339 |     0.3427 |     0.3549 |    -0.8698\n    6 |    -0.2339 |    -0.3409 |    -0.3561 |     0.8700\n    7 |    -0.2339 |     0.3414 |     0.3558 |    -0.8700\n\nFinal Eigenvalues:\nSmallest Eigenvalue: -0.2339\nLargest Eigenvalue: 59.9095\nIntermediate Eigenvalue: 13.3244\n\nCorresponding Eigenvectors:\nv₃: [ 0.3414  0.3558 -0.87  ]\nv₁: [0.4639 0.7412 0.4852]\n"
        }
      ],
      "execution_count": 8
    },
    {
      "id": "edac57c5-f8c2-4b0a-9e62-d8250a87d3e7",
      "cell_type": "code",
      "source": "",
      "metadata": {
        "trusted": true
      },
      "outputs": [],
      "execution_count": null
    }
  ]
}