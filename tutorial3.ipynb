{
  "metadata": {
    "kernelspec": {
      "name": "python",
      "display_name": "Python (Pyodide)",
      "language": "python"
    },
    "language_info": {
      "codemirror_mode": {
        "name": "python",
        "version": 3
      },
      "file_extension": ".py",
      "mimetype": "text/x-python",
      "name": "python",
      "nbconvert_exporter": "python",
      "pygments_lexer": "ipython3",
      "version": "3.8"
    }
  },
  "nbformat_minor": 5,
  "nbformat": 4,
  "cells": [
    {
      "id": "275830c2-0a8d-4009-88b9-ea6cbea29e4f",
      "cell_type": "code",
      "source": "import math\n\n# Define helper functions\ndef newton_raphson_method(f, f_prime, initial_guess, tolerance=1e-3, max_iterations=100):\n    x = initial_guess\n    iterations = []\n    for i in range(max_iterations):\n        fx = f(x)\n        fx_prime = f_prime(x)\n        if fx_prime == 0:\n            break\n        x_next = x - fx / fx_prime\n        error = abs((x_next - x) / x_next) * 100 if x_next != 0 else 0\n        iterations.append((i + 1, x, fx, x_next, error))\n        if abs(x_next - x) < tolerance:\n            return x_next, iterations\n        x = x_next\n    return None, iterations\n\ndef secant_method(f, x0, x1, tolerance=1e-3, max_iterations=100):\n    iterations = []\n    for i in range(max_iterations):\n        fx0, fx1 = f(x0), f(x1)\n        if fx1 - fx0 == 0:\n            break\n        x_next = x1 - fx1 * (x1 - x0) / (fx1 - fx0)\n        error = abs((x_next - x1) / x_next) * 100 if x_next != 0 else 0\n        iterations.append((i + 1, math.degrees(x0), math.degrees(x1), fx0, fx1, math.degrees(x_next), error))\n        if abs(x_next - x1) < tolerance:\n            return x_next, iterations\n        x0, x1 = x1, x_next\n    return None, iterations\n\ndef false_position_method(f, x0, x1, tolerance=1e-3, max_iterations=100):\n    iterations = []\n    for i in range(max_iterations):\n        fx0, fx1 = f(x0), f(x1)\n        x_next = x1 - fx1 * (x1 - x0) / (fx1 - fx0)\n        fx_next = f(x_next)\n        error = abs((x_next - x1) / x_next) * 100 if x_next != 0 else 0\n        iterations.append((i + 1, math.degrees(x0), math.degrees(x1), fx0, fx1, math.degrees(x_next), fx_next, error))\n        if abs(fx_next) < tolerance:\n            return x_next, iterations\n        if fx0 * fx_next < 0:\n            x1 = x_next\n        else:\n            x0 = x_next\n    return None, iterations\n\n# Problem 1\ndef problem_1():\n    P, E, I, delta = 70, 4.9e3, 1, 0.1  # kN, kN-m^2, cm -> m\n    f = lambda L: (P * L**3) / (3 * E * I) - delta\n    f_prime = lambda L: (3 * P * L**2) / (3 * E * I)\n\n    # Newton-Raphson\n    L_newton, newton_iterations = newton_raphson_method(f, f_prime, 1.5)\n\n    # Secant\n    L_secant, secant_iterations = secant_method(f, 1.0, 5.0)\n\n    print(\"Problem 1:\")\n    print(\"Newton-Raphson Method:\")\n    print(\"Iter | x      | f(x)     | x_next  | Error (%)\")\n    for it in newton_iterations:\n        print(f\"{it[0]:>4} | {it[1]:.5f} | {it[2]:.5f} | {it[3]:.5f} | {it[4]:.5f}\")\n    print(f\"Maximum Length (L): {L_newton:.3f} m\\n\")\n\n    print(\"Secant Method:\")\n    print(\"Iter | x0     | x1       | f(x0)   | f(x1)   | x_next  | Error (%)\")\n    for it in secant_iterations:\n        print(f\"{it[0]:>4} | {it[1]:.5f} | {it[2]:.5f} | {it[3]:.5f} | {it[4]:.5f} | {it[5]:.5f} | {it[6]:.5f}\")\n    print(f\"Maximum Length (L): {L_secant:.3f} m\\n\")\n\n# Problem 2\ndef problem_2():\n    c, phi, gamma, z, FoS = 5, 25, 18, 6, 1.5  # kPa, degrees, kN/m^3, m\n    phi_rad = math.radians(phi)\n    f = lambda beta: (c / (gamma * z * math.sin(beta) * math.cos(beta))) + \\\n                     (math.tan(phi_rad) / math.tan(beta)) - FoS\n\n    # Secant\n    beta_secant, secant_iterations = secant_method(f, math.radians(15), math.radians(22))\n\n    # False Position\n    beta_false_position, false_position_iterations = false_position_method(f, math.radians(15), math.radians(22))\n\n    print(\"Problem 2:\")\n    print(\"\\nSecant Method:\")\n    print(\"Iter | x0 (°)  | x1 (°)  | f(x0)   | f(x1)   | x_next (°) | Error (%)\")\n    for it in secant_iterations:\n        print(f\"{it[0]:>4} | {it[1]:.3f} | {it[2]:.3f} | {it[3]:.5f} | {it[4]:.5f} | {it[5]:.3f} | {it[6]:.3f}\")\n\n    print(\"\\nFalse Position Method:\")\n    print(\"Iter | x0 (°)  | x1 (°)  | f(x0)   | f(x1)   | x_next (°) | f(x_next) | Error (%)\")\n    for it in false_position_iterations:\n        print(f\"{it[0]:>4} | {it[1]:.3f} | {it[2]:.3f} | {it[3]:.5f} | {it[4]:.5f} | {it[5]:.3f} | {it[6]:.5f} | {it[7]:.3f}\")\n\n    print(f\"\\nSafe Slope Angle (Secant Method): {math.degrees(beta_secant):.3f}°\")\n    print(f\"Safe Slope Angle (False Position Method): {math.degrees(beta_false_position):.3f}°\")\n\n# Run problems\nproblem_1()\nproblem_2()",
      "metadata": {
        "trusted": true
      },
      "outputs": [
        {
          "name": "stdout",
          "output_type": "stream",
          "text": "Problem 1:\nNewton-Raphson Method:\nIter | x      | f(x)     | x_next  | Error (%)\n   1 | 1.50000 | -0.08393 | 4.11111 | 63.51351\n   2 | 4.11111 | 0.23087 | 3.15491 | 30.30828\n   3 | 3.15491 | 0.04953 | 2.80655 | 12.41257\n   4 | 2.80655 | 0.00527 | 2.75973 | 1.69652\n   5 | 2.75973 | 0.00009 | 2.75892 | 0.02912\nMaximum Length (L): 2.759 m\n\nSecant Method:\nIter | x0     | x1       | f(x0)   | f(x1)   | x_next  | Error (%)\n   1 | 57.29578 | 286.47890 | -0.09524 | 0.49524 | 94.26080 | 203.92157\n   2 | 286.47890 | 94.26080 | 0.49524 | -0.07880 | 120.64619 | 21.87005\n   3 | 94.26080 | 120.64619 | -0.07880 | -0.05554 | 183.66449 | 34.31164\n   4 | 120.64619 | 183.66449 | -0.05554 | 0.05685 | 151.78814 | 21.00055\n   5 | 183.66449 | 151.78814 | 0.05685 | -0.01146 | 157.13680 | 3.40382\n   6 | 151.78814 | 157.13680 | -0.01146 | -0.00177 | 158.11318 | 0.61752\n   7 | 157.13680 | 158.11318 | -0.00177 | 0.00007 | 158.07448 | 0.02448\nMaximum Length (L): 2.759 m\n\nProblem 2:\n\nSecant Method:\nIter | x0 (°)  | x1 (°)  | f(x0)   | f(x1)   | x_next (°) | Error (%)\n   1 | 15.000 | 22.000 | 0.42547 | -0.21256 | 19.668 | 11.857\n   2 | 22.000 | 19.668 | -0.21256 | -0.04928 | 18.964 | 3.711\n   3 | 19.668 | 18.964 | -0.04928 | 0.00765 | 19.059 | 0.496\n   4 | 18.964 | 19.059 | 0.00765 | -0.00024 | 19.056 | 0.015\n\nFalse Position Method:\nIter | x0 (°)  | x1 (°)  | f(x0)   | f(x1)   | x_next (°) | f(x_next) | Error (%)\n   1 | 15.000 | 22.000 | 0.42547 | -0.21256 | 19.668 | -0.04928 | 11.857\n   2 | 15.000 | 19.668 | 0.42547 | -0.04928 | 19.183 | -0.01052 | 2.526\n   3 | 15.000 | 19.183 | 0.42547 | -0.01052 | 19.082 | -0.00221 | 0.529\n   4 | 15.000 | 19.082 | 0.42547 | -0.00221 | 19.061 | -0.00046 | 0.110\n\nSafe Slope Angle (Secant Method): 19.056°\nSafe Slope Angle (False Position Method): 19.061°\n"
        }
      ],
      "execution_count": 2
    },
    {
      "id": "42c05e32-2d16-4e1b-870d-a32b7ddbbaf5",
      "cell_type": "code",
      "source": "",
      "metadata": {
        "trusted": true
      },
      "outputs": [],
      "execution_count": null
    }
  ]
}