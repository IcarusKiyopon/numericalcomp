{
  "metadata": {
    "kernelspec": {
      "name": "python",
      "display_name": "Python (Pyodide)",
      "language": "python"
    },
    "language_info": {
      "codemirror_mode": {
        "name": "python",
        "version": 3
      },
      "file_extension": ".py",
      "mimetype": "text/x-python",
      "name": "python",
      "nbconvert_exporter": "python",
      "pygments_lexer": "ipython3",
      "version": "3.8"
    }
  },
  "nbformat_minor": 5,
  "nbformat": 4,
  "cells": [
    {
      "id": "8c8b410e-1a76-4995-a375-ede5f848c474",
      "cell_type": "code",
      "source": "import numpy as np\n\ndef gauss_elimination(A, b):\n    n = len(b)\n    for i in range(n):\n        for j in range(i+1, n):\n            factor = A[j, i] / A[i, i]\n            A[j] = A[j] - factor * A[i]\n            b[j] = b[j] - factor * b[i]\n            print(A)\n    \n    x = np.zeros(n)\n    for i in range(n-1, -1, -1):\n        x[i] = (b[i] - np.dot(A[i, i+1:], x[i+1:])) / A[i, i]\n    return x\n\ndef lu_decomposition(A, b):\n    n = len(A)\n    L = np.eye(n)\n    U = A.copy()\n    \n    for i in range(n):\n        for j in range(i+1, n):\n            factor = U[j, i] / U[i, i]\n            U[j] = U[j] - factor * U[i]\n            L[j, i] = factor\n    \n    y = np.zeros(n)\n    for i in range(n):\n        y[i] = b[i] - np.dot(L[i, :i], y[:i])\n    \n    x = np.zeros(n)\n    for i in range(n-1, -1, -1):\n        x[i] = (y[i] - np.dot(U[i, i+1:], x[i+1:])) / U[i, i]\n    \n    return x\n\n\nK1, K2, K3, K4, K5 = 11.0, 20.0, 20.0, 20.0, 90.0  # K1 is last three digits of roll number\nA = np.array([[K1 + K2 + K3, -K2, -K3],\n              [-K2, K2 + K4, -K4],\n              [-K3, -K4, K3 + K4 + K5]])\n\nr = np.array([20.0, 20.0, 20.0])\n\n# Gauss Elimination\nx_gauss = gauss_elimination(A.copy(), r.copy())\nprint(\"Solution using Gauss Elimination:\", x_gauss)\n\n# LU Decomposition\nx_lu = lu_decomposition(A, r)\nprint(\"Solution using LU Decomposition:\", x_lu)\n",
      "metadata": {
        "trusted": true
      },
      "outputs": [
        {
          "name": "stdout",
          "output_type": "stream",
          "text": "[[ 51.         -20.         -20.        ]\n [  0.          32.15686275 -27.84313725]\n [-20.         -20.         130.        ]]\n[[ 51.         -20.         -20.        ]\n [  0.          32.15686275 -27.84313725]\n [  0.         -27.84313725 122.15686275]]\n[[ 51.         -20.         -20.        ]\n [  0.          32.15686275 -27.84313725]\n [  0.           0.          98.04878049]]\nSolution using Gauss Elimination: [1.11940299 1.32462687 0.52985075]\nSolution using LU Decomposition: [1.11940299 1.32462687 0.52985075]\n"
        }
      ],
      "execution_count": 4
    },
    {
      "id": "073d036d-8268-405a-9c9d-70c2ce490404",
      "cell_type": "code",
      "source": "",
      "metadata": {
        "trusted": true
      },
      "outputs": [],
      "execution_count": null
    }
  ]
}