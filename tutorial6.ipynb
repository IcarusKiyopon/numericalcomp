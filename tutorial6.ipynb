{
  "metadata": {
    "kernelspec": {
      "name": "python",
      "display_name": "Python (Pyodide)",
      "language": "python"
    },
    "language_info": {
      "codemirror_mode": {
        "name": "python",
        "version": 3
      },
      "file_extension": ".py",
      "mimetype": "text/x-python",
      "name": "python",
      "nbconvert_exporter": "python",
      "pygments_lexer": "ipython3",
      "version": "3.8"
    }
  },
  "nbformat_minor": 5,
  "nbformat": 4,
  "cells": [
    {
      "id": "f2265190-2d15-4d27-861d-d11fecc75f8a",
      "cell_type": "code",
      "source": "import numpy as np\n\ndef decompose_matrix(A):\n    n = len(A)\n    L = [[0 if j >= i else A[i][j] for j in range(n)] for i in range(n)]\n    D = [[A[i][i] if i == j else 0 for j in range(n)] for i in range(n)]\n    U = [[0 if j <= i else A[i][j] for j in range(n)] for i in range(n)]\n    return np.array(L), np.array(D), np.array(U)\n\ndef md(x_new, x):\n    return max(abs(x_new[i] - x[i]) for i in range(len(x)))\n\ndef jacobi(A, b, tol=1e-4, maxitr=100):\n    L, D, U = decompose_matrix(A)\n    dinv = np.linalg.inv(D)\n    x = np.zeros(len(b))\n    for _ in range(maxitr):\n        x_new = -dinv @ (L + U) @ x + dinv @ b\n        if md(x_new, x) < tol:\n            return x_new\n        x = x_new\n    return x\n\ndef gaussseidel(A, b, tol=1e-4, maxitr=100):\n    L, D, U = decompose_matrix(A)\n    dlinv = np.linalg.inv(D + L)\n    x = np.zeros(len(b))\n    for _ in range(maxitr):\n        x_new = -dlinv @ U @ x + dlinv @ b\n        if md(x_new, x) < tol:\n            return x_new\n        x = x_new\n    return x\n\ndef gaussseidelsor(A, b, w=1.5, tol=1e-4, maxitr=100):\n    x = np.zeros(len(b))\n    for _ in range(maxitr):\n        x_old = x.copy()\n        for i in range(len(b)):\n            sum1 = sum(A[i][j] * x[j] for j in range(i))  \n            sum2 = sum(A[i][j] * x_old[j] for j in range(i + 1, len(b))) \n            x_gs = (b[i] - sum1 - sum2) / A[i][i] \n            x[i] = (1 - w) * x_old[i] + w * x_gs  \n        if md(x, x_old) < tol:\n            return x\n    return x\n\nA = [[51.00, -20.00, -20.00],\n     [-20.00, 40.00, -20.00],\n     [-20.00, -20.00, 130.00]]\n\nb = [20.00, 20.00, 20.00]\n\nprint(\"Jacobi Solution:\", jacobi(A, b))\nprint(\"Gauss-Seidel Solution:\", gaussseidel(A, b))\nprint(\"Gauss-Seidel SOR Solution:\", gaussseidelsor(A, b, w=1.5))\n",
      "metadata": {
        "trusted": true
      },
      "outputs": [
        {
          "name": "stdout",
          "output_type": "stream",
          "text": "Jacobi Solution: [1.11926098 1.32446275 0.52977857]\nGauss-Seidel Solution: [1.1193271  1.32456435 0.52982945]\nGauss-Seidel SOR Solution: [1.11941921 1.32466493 0.52983409]\n"
        }
      ],
      "execution_count": 4
    },
    {
      "id": "9bf826e2-ae32-4574-b98e-fed5145644b4",
      "cell_type": "code",
      "source": "",
      "metadata": {
        "trusted": true
      },
      "outputs": [],
      "execution_count": null
    }
  ]
}